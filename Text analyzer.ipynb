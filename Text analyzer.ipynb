{
 "cells": [
  {
   "cell_type": "markdown",
   "id": "dbe8e81c",
   "metadata": {},
   "source": [
    "## Define a string:"
   ]
  },
  {
   "cell_type": "code",
   "execution_count": 2,
   "id": "7f2d44b4",
   "metadata": {},
   "outputs": [],
   "source": [
    "givenstring=\"Lorem iosum dolor! diam amet, consetetur Lorem magna. sed diam nonumy eirmod tempor. diam et labore? et diam magna. et diam amet.\""
   ]
  },
  {
   "cell_type": "markdown",
   "id": "feab3a55",
   "metadata": {},
   "source": [
    "First we need to create a class:"
   ]
  },
  {
   "cell_type": "code",
   "execution_count": 4,
   "id": "2eaa6591",
   "metadata": {},
   "outputs": [],
   "source": [
    "#Let's createa a class called TextAnalyzer to analyze text.\n",
    "class TextAnalyzer(object):\n",
    "    # The __init__ method initializes the class with a 'text' parameter.\n",
    "    # you will store the provided 'text' as an instance variable.\n",
    "    def __init__(self, text):\n",
    "        \n",
    "        # remove punctuation\n",
    "        formattedText = text.replace('.','').replace('!','').replace('?','').replace(',','')\n",
    "        \n",
    "        # make text lowercase\n",
    "        formattedText = formattedText.lower()\n",
    "        \n",
    "        # Assign the formattedText to a new attributre called fmtText\n",
    "        self.fmtText = formattedText"
   ]
  },
  {
   "cell_type": "markdown",
   "id": "edd9eb18",
   "metadata": {},
   "source": [
    "now we want to count the frequency of all unique words"
   ]
  },
  {
   "cell_type": "markdown",
   "id": "62275b1a",
   "metadata": {},
   "source": [
    "In this step, we will implement the 'freqAll()' method with the below parameters:\n",
    "    \n",
    "    1. sploit the fmrText attribute into individual words using the 'split()' method.\n",
    "    2. create an empty dictionary to store the word frequency.\n",
    "    3.Iterate over the list of words and upsdate the frequency dictionary accordinly.\n",
    "    4. Use 'count' method for counting the occurence.\n",
    "    5.Return the frequency dictionary."
   ]
  },
  {
   "cell_type": "code",
   "execution_count": 6,
   "id": "b218870b",
   "metadata": {},
   "outputs": [],
   "source": [
    "def freqAll(self):\n",
    "    #split text into words\n",
    "    wordList = self.fmtText.split(' ')\n",
    "    \n",
    "    # create dictionary\n",
    "    freqMap = {}\n",
    "    for word in set(wordList): #use set to remove dupliucatesin list\n",
    "        freqMap[word] = wordList.count(word)\n",
    "        \n",
    "    \n",
    "    return freqMap\n"
   ]
  },
  {
   "cell_type": "markdown",
   "id": "d6b07258",
   "metadata": {},
   "source": [
    "now count the frequency of a specific word"
   ]
  },
  {
   "cell_type": "code",
   "execution_count": 7,
   "id": "587e8c86",
   "metadata": {},
   "outputs": [],
   "source": [
    "def freqOf(self,word):\n",
    "    #get frequency map\n",
    "    freqDict = self.freqAll()\n",
    "    \n",
    "    if word in freqDict:\n",
    "        return freqDict[word]\n",
    "    else:\n",
    "        return 0"
   ]
  },
  {
   "cell_type": "markdown",
   "id": "31369a91",
   "metadata": {},
   "source": [
    "now that we successfully created a class with methods, we want to call the functions and allowing the functions to execute and generate output"
   ]
  },
  {
   "cell_type": "code",
   "execution_count": 8,
   "id": "db5402c6",
   "metadata": {},
   "outputs": [],
   "source": [
    "analyzed = TextAnalyzer(givenstring)"
   ]
  },
  {
   "cell_type": "code",
   "execution_count": 11,
   "id": "780345ea",
   "metadata": {},
   "outputs": [
    {
     "name": "stdout",
     "output_type": "stream",
     "text": [
      "Formatted Text: lorem iosum dolor diam amet consetetur lorem magna sed diam nonumy eirmod tempor diam et labore et diam magna et diam amet\n"
     ]
    }
   ],
   "source": [
    "print(\"Formatted Text:\", analyzed.fmtText)"
   ]
  },
  {
   "cell_type": "raw",
   "id": "ce411553",
   "metadata": {},
   "source": [
    "word = \"lorem\"\n",
    "frequency = analyzed.freqOf(word)\n",
    "print(\"The word\", word,\"appears\", frequency,\"times.\")"
   ]
  },
  {
   "cell_type": "code",
   "execution_count": null,
   "id": "6580277c",
   "metadata": {},
   "outputs": [],
   "source": []
  }
 ],
 "metadata": {
  "kernelspec": {
   "display_name": "Python 3",
   "language": "python",
   "name": "python3"
  },
  "language_info": {
   "codemirror_mode": {
    "name": "ipython",
    "version": 3
   },
   "file_extension": ".py",
   "mimetype": "text/x-python",
   "name": "python",
   "nbconvert_exporter": "python",
   "pygments_lexer": "ipython3",
   "version": "3.8.8"
  }
 },
 "nbformat": 4,
 "nbformat_minor": 5
}
